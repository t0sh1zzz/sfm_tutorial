{
 "cells": [
  {
   "cell_type": "code",
   "execution_count": 1,
   "metadata": {},
   "outputs": [],
   "source": [
    "from PIL import Image\n",
    "import os\n",
    "import matplotlib.pyplot as plt\n",
    "from array import array\n",
    "import numpy as np\n",
    "import cv2\n",
    "import sift\n",
    "from scipy import ndimage\n",
    "import warp\n",
    "import homography"
   ]
  },
  {
   "cell_type": "code",
   "execution_count": null,
   "metadata": {},
   "outputs": [],
   "source": [
    "fp = np.array([[0, 1, 2],[4, 5, 6],[1, 1, 1]])\n",
    "\n",
    "m = np.mean(fp[:2], axis=1)\n",
    "print(m)\n",
    "maxstd = max(np.std(fp[:2], axis=1)) + 1e-9\n",
    "print(maxstd)\n",
    "C1 = np.diag([1/maxstd, 1/maxstd, 1])\n",
    "print(C1)\n",
    "C1[0][2] = -m[0]/maxstd\n",
    "C1[1][2] = -m[1]/maxstd\n",
    "print(C1)\n",
    "fp = np.dot(C1, fp)\n",
    "print(fp)"
   ]
  },
  {
   "cell_type": "code",
   "execution_count": 4,
   "metadata": {},
   "outputs": [],
   "source": [
    "from scipy import ndimage"
   ]
  },
  {
   "cell_type": "code",
   "execution_count": null,
   "metadata": {},
   "outputs": [],
   "source": [
    "im = np.array(Image.open(\"/home/jaxa/toshiki/sfmtutorial/scan9_mini/00000016.jpg\").convert(\"L\"))\n",
    "H = np.array([[1.4, 0.05, -100], [0.05, 1.5, -100], [0, 0, 1]])\n",
    "im2 = ndimage.affine_transform(im, H[:2,:2], (H[0,2],H[1,2]))\n",
    "\n",
    "plt.figure()\n",
    "plt.gray()\n",
    "plt.imshow(im2)\n",
    "plt.show()"
   ]
  },
  {
   "cell_type": "code",
   "execution_count": null,
   "metadata": {},
   "outputs": [],
   "source": [
    "im1 = np.array(Image.open(\"/home/jaxa/toshiki/sfmtutorial/IMG20241217171723.jpg\").convert(\"L\"))\n",
    "im2 = np.array(Image.open(\"/home/jaxa/toshiki/sfmtutorial/scan9_mini/00000016.jpg\").convert(\"L\"))\n",
    "\n",
    "tp = np.array([[264, 538, 540, 264], [140, 36, 665, 805], [1, 1, 1, 1]])\n",
    "im3 = warp.image_in_image(im1, im2, tp)\n",
    "\n",
    "plt.figure()\n",
    "plt.gray()\n",
    "plt.imshow(im3)\n",
    "plt.show()"
   ]
  },
  {
   "cell_type": "code",
   "execution_count": null,
   "metadata": {},
   "outputs": [],
   "source": [
    "im1 = np.array(Image.open(\"/home/jaxa/toshiki/sfmtutorial/IMG20241217171723.jpg\").convert(\"L\"))\n",
    "im2 = np.array(Image.open(\"/home/jaxa/toshiki/sfmtutorial/scan9_mini/00000016.jpg\").convert(\"L\"))\n",
    "\n",
    "tp = np.array([[264, 538, 540, 264], [140, 36, 665, 805], [1, 1, 1, 1]])\n",
    "\n",
    "m, n = im1.shape[:2]\n",
    "fp = np.array([[0,m,m,0],[0,0,n,n],[1,1,1,1]])\n",
    "\n",
    "tp2 = tp[:, :3]\n",
    "fp2 = fp[:, :3]\n",
    "\n",
    "H = homography.Haffine_from_points(tp2, fp2)\n",
    "im1_t = ndimage.affine_transform(im1, H[:2,:2], (H[0,2],H[1,2]), im2.shape[:2])\n",
    "\n",
    "alpha = warp.alpha_for_triangle(tp2, im2.shape[0], im2.shape[1])\n",
    "im3 = (1-alpha)*im2 + alpha*im1_t\n",
    "\n",
    "tp2 = tp[:, [0,2,3]]\n",
    "fp2 = fp[:, [0,2,3]]\n",
    "\n",
    "H = homography.Haffine_from_points(tp2, fp2)\n",
    "im1_t = ndimage.affine_transform(im1, H[:2,:2], (H[0,2],H[1,2]), im2.shape[:2])\n",
    "\n",
    "alpha = warp.alpha_for_triangle(tp2, im2.shape[0], im2.shape[1])\n",
    "im4 = (1-alpha)*im3 + alpha*im1_t\n",
    "\n",
    "plt.figure()\n",
    "plt.gray()\n",
    "plt.imshow(im4)\n",
    "plt.show()"
   ]
  },
  {
   "cell_type": "code",
   "execution_count": null,
   "metadata": {},
   "outputs": [],
   "source": [
    "dir_path = \"room\"\n",
    "out_path = \"room_resize\"\n",
    "out_path = os.path.join(dir_path, out_path)\n",
    "\n",
    "files = os.listdir(dir_path)\n",
    "files = files[:-1]\n",
    "print(files)\n",
    "\n",
    "for i in files:\n",
    "    img_path = os.path.join(dir_path, i)\n",
    "    img = Image.open(img_path)\n",
    "    img_resized = img.resize((1600, 1200))\n",
    "    output_path = os.path.join(out_path, i)\n",
    "    img_resized.save(output_path, quality=90)\n",
    "\n"
   ]
  },
  {
   "cell_type": "code",
   "execution_count": null,
   "metadata": {},
   "outputs": [],
   "source": [
    "images_path = \"/home/jaxa/toshiki/sfmtutorial/room/room_resize\"\n",
    "sift_path = \"/home/jaxa/toshiki/sfmtutorial/room/room_sift\"\n",
    "\n",
    "sift.process_image_multiview(images_path, sift_path)\n",
    "matchscores = sift.matching_multiview(images_path, sift_path)"
   ]
  },
  {
   "cell_type": "code",
   "execution_count": null,
   "metadata": {},
   "outputs": [],
   "source": [
    "np.save(\"matchscores_room.npy\", matchscores)"
   ]
  },
  {
   "cell_type": "code",
   "execution_count": 6,
   "metadata": {},
   "outputs": [
    {
     "name": "stdout",
     "output_type": "stream",
     "text": [
      "[[5.396e+03 4.000e+00 6.470e+02 2.140e+02 1.130e+03 6.120e+02 5.600e+01]\n",
      " [4.000e+00 2.067e+03 7.700e+01 1.000e+00 0.000e+00 1.000e+00 1.180e+02]\n",
      " [6.470e+02 7.700e+01 3.880e+03 1.100e+01 5.590e+02 3.230e+02 2.000e+02]\n",
      " [2.140e+02 1.000e+00 1.100e+01 7.319e+03 3.960e+02 1.026e+03 0.000e+00]\n",
      " [1.130e+03 0.000e+00 5.590e+02 3.960e+02 5.908e+03 1.078e+03 1.000e+01]\n",
      " [6.120e+02 1.000e+00 3.230e+02 1.026e+03 1.078e+03 6.389e+03 0.000e+00]\n",
      " [5.600e+01 1.180e+02 2.000e+02 0.000e+00 1.000e+01 0.000e+00 1.220e+03]]\n",
      "(7, 7)\n"
     ]
    }
   ],
   "source": [
    "matchscores = np.load(\"matchscores_room.npy\")\n",
    "print(matchscores)\n",
    "print(matchscores.shape)"
   ]
  },
  {
   "cell_type": "code",
   "execution_count": 8,
   "metadata": {},
   "outputs": [],
   "source": [
    "sift_path = \"/home/jaxa/toshiki/sfmtutorial/room/room_sift\"\n",
    "files = os.listdir(sift_path)\n",
    "\n",
    "l = {}\n",
    "d = {}\n",
    "\n",
    "for i in range(len(files)):\n",
    "    l[i], d[i] = sift.read_features_from_file(os.path.join(sift_path, files[i]))\n",
    "    l[i][:,[0,1]] = l[i][:,[1,0]]\n",
    "\n",
    "matches = {}\n",
    "\n",
    "for i in range(len(files)-1):\n",
    "    matches[i] = sift.match(d[i+1],d[i])"
   ]
  },
  {
   "cell_type": "code",
   "execution_count": 10,
   "metadata": {},
   "outputs": [
    {
     "name": "stdout",
     "output_type": "stream",
     "text": [
      "{0: array([0, 0, 0, ..., 0, 0, 0]), 1: array([0, 0, 0, ..., 0, 0, 0]), 2: array([0, 0, 0, ..., 0, 0, 0]), 3: array([2412,    0,    0, ...,    0,    0,    0]), 4: array([0, 0, 0, ..., 0, 0, 0]), 5: array([0, 0, 0, ..., 0, 0, 0])}\n"
     ]
    }
   ],
   "source": [
    "print(matches)\n"
   ]
  },
  {
   "cell_type": "code",
   "execution_count": 11,
   "metadata": {},
   "outputs": [],
   "source": [
    "def convert_points(matchscores, j):\n",
    "    ndx = matchscores[j].nonzero()[0]\n",
    "    fp = homography.make_homog(l[j+1][ndx,:2].T)\n",
    "    ndx2 = [int(matchscores[j][i]) for i in ndx]\n",
    "    tp = homography.make_homog(l[j][ndx2,:2].T)\n",
    "\n",
    "    return fp, tp"
   ]
  },
  {
   "cell_type": "code",
   "execution_count": 16,
   "metadata": {},
   "outputs": [
    {
     "ename": "ValueError",
     "evalue": "did not meet fit acceptance criteria",
     "output_type": "error",
     "traceback": [
      "\u001b[0;31m---------------------------------------------------------------------------\u001b[0m",
      "\u001b[0;31mValueError\u001b[0m                                Traceback (most recent call last)",
      "Cell \u001b[0;32mIn[16], line 4\u001b[0m\n\u001b[1;32m      1\u001b[0m model \u001b[38;5;241m=\u001b[39m homography\u001b[38;5;241m.\u001b[39mRansacModel()\n\u001b[1;32m      3\u001b[0m fp, tp \u001b[38;5;241m=\u001b[39m convert_points(matches, \u001b[38;5;241m0\u001b[39m)\n\u001b[0;32m----> 4\u001b[0m H_01 \u001b[38;5;241m=\u001b[39m \u001b[43mhomography\u001b[49m\u001b[38;5;241;43m.\u001b[39;49m\u001b[43mH_from_ransac\u001b[49m\u001b[43m(\u001b[49m\u001b[43mfp\u001b[49m\u001b[43m,\u001b[49m\u001b[43m \u001b[49m\u001b[43mtp\u001b[49m\u001b[43m,\u001b[49m\u001b[43m \u001b[49m\u001b[43mmodel\u001b[49m\u001b[43m)\u001b[49m[\u001b[38;5;241m0\u001b[39m]\n\u001b[1;32m      6\u001b[0m fp, tp \u001b[38;5;241m=\u001b[39m convert_points(matches, \u001b[38;5;241m1\u001b[39m)\n\u001b[1;32m      7\u001b[0m H_12 \u001b[38;5;241m=\u001b[39m homography\u001b[38;5;241m.\u001b[39mH_from_ransac(fp, tp, model)[\u001b[38;5;241m0\u001b[39m]\n",
      "File \u001b[0;32m/extra/home/jaxa/toshiki/sfmtutorial/homography.py:120\u001b[0m, in \u001b[0;36mH_from_ransac\u001b[0;34m(fp, tp, model, maxiter, match_threshold)\u001b[0m\n\u001b[1;32m    116\u001b[0m \u001b[38;5;28;01mimport\u001b[39;00m \u001b[38;5;21;01mransac\u001b[39;00m\n\u001b[1;32m    118\u001b[0m data \u001b[38;5;241m=\u001b[39m np\u001b[38;5;241m.\u001b[39mvstack((fp, tp))\n\u001b[0;32m--> 120\u001b[0m H, ransac_data \u001b[38;5;241m=\u001b[39m \u001b[43mransac\u001b[49m\u001b[38;5;241;43m.\u001b[39;49m\u001b[43mransac\u001b[49m\u001b[43m(\u001b[49m\u001b[43mdata\u001b[49m\u001b[38;5;241;43m.\u001b[39;49m\u001b[43mT\u001b[49m\u001b[43m,\u001b[49m\u001b[43m \u001b[49m\u001b[43mmodel\u001b[49m\u001b[43m,\u001b[49m\u001b[43m \u001b[49m\u001b[38;5;241;43m4\u001b[39;49m\u001b[43m,\u001b[49m\u001b[43m \u001b[49m\u001b[43mmaxiter\u001b[49m\u001b[43m,\u001b[49m\u001b[43m \u001b[49m\u001b[43mmatch_threshold\u001b[49m\u001b[43m,\u001b[49m\u001b[43m \u001b[49m\u001b[38;5;241;43m10\u001b[39;49m\u001b[43m,\u001b[49m\u001b[43m \u001b[49m\u001b[43mreturn_all\u001b[49m\u001b[38;5;241;43m=\u001b[39;49m\u001b[38;5;28;43;01mTrue\u001b[39;49;00m\u001b[43m)\u001b[49m\n\u001b[1;32m    122\u001b[0m \u001b[38;5;28;01mreturn\u001b[39;00m H, ransac_data[\u001b[38;5;124m\"\u001b[39m\u001b[38;5;124minliers\u001b[39m\u001b[38;5;124m\"\u001b[39m]\n",
      "File \u001b[0;32m/extra/home/jaxa/toshiki/sfmtutorial/ransac.py:105\u001b[0m, in \u001b[0;36mransac\u001b[0;34m(data, model, n, k, t, d, debug, return_all)\u001b[0m\n\u001b[1;32m    103\u001b[0m     iterations\u001b[38;5;241m+\u001b[39m\u001b[38;5;241m=\u001b[39m\u001b[38;5;241m1\u001b[39m\n\u001b[1;32m    104\u001b[0m \u001b[38;5;28;01mif\u001b[39;00m bestfit \u001b[38;5;129;01mis\u001b[39;00m \u001b[38;5;28;01mNone\u001b[39;00m:\n\u001b[0;32m--> 105\u001b[0m     \u001b[38;5;28;01mraise\u001b[39;00m \u001b[38;5;167;01mValueError\u001b[39;00m(\u001b[38;5;124m\"\u001b[39m\u001b[38;5;124mdid not meet fit acceptance criteria\u001b[39m\u001b[38;5;124m\"\u001b[39m)\n\u001b[1;32m    106\u001b[0m \u001b[38;5;28;01mif\u001b[39;00m return_all:\n\u001b[1;32m    107\u001b[0m     \u001b[38;5;28;01mreturn\u001b[39;00m bestfit, {\u001b[38;5;124m'\u001b[39m\u001b[38;5;124minliers\u001b[39m\u001b[38;5;124m'\u001b[39m:best_inlier_idxs}\n",
      "\u001b[0;31mValueError\u001b[0m: did not meet fit acceptance criteria"
     ]
    }
   ],
   "source": [
    "model = homography.RansacModel()\n",
    "\n",
    "fp, tp = convert_points(matches, 0)\n",
    "H_01 = homography.H_from_ransac(fp, tp, model)[0]\n",
    "\n",
    "fp, tp = convert_points(matches, 1)\n",
    "H_12 = homography.H_from_ransac(fp, tp, model)[0]\n",
    "\n",
    "fp, tp = convert_points(matches, 2)\n",
    "# H_32 = homography.H_from_ransac(fp, tp, model)[0]\n",
    "\n",
    "fp, tp = convert_points(matches, 3)\n",
    "H_43 = homography.H_from_ransac(fp, tp, model)[0]\n",
    "\n"
   ]
  }
 ],
 "metadata": {
  "kernelspec": {
   "display_name": "sfmtutorial",
   "language": "python",
   "name": "python3"
  },
  "language_info": {
   "codemirror_mode": {
    "name": "ipython",
    "version": 3
   },
   "file_extension": ".py",
   "mimetype": "text/x-python",
   "name": "python",
   "nbconvert_exporter": "python",
   "pygments_lexer": "ipython3",
   "version": "3.9.21"
  }
 },
 "nbformat": 4,
 "nbformat_minor": 2
}
