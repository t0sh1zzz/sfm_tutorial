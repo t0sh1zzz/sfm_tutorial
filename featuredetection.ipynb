{
 "cells": [
  {
   "cell_type": "code",
   "execution_count": 1,
   "metadata": {},
   "outputs": [],
   "source": [
    "from PIL import Image\n",
    "import os\n",
    "import matplotlib.pyplot as plt\n",
    "from array import array\n",
    "import numpy as np\n",
    "import cv2\n",
    "import sift"
   ]
  },
  {
   "cell_type": "code",
   "execution_count": null,
   "metadata": {},
   "outputs": [],
   "source": [
    "import harris"
   ]
  },
  {
   "cell_type": "code",
   "execution_count": null,
   "metadata": {},
   "outputs": [],
   "source": [
    "im = np.array(Image.open(\"/home/jaxa/toshiki/sfmtutorial/IMG20241217171723.jpg\").convert(\"L\"))\n",
    "harrisim = harris.compute_harris_response(im)\n",
    "filtered_coords = harris.get_harris_points(harrisim, 50)\n",
    "harris.plot_harris_points(im, filtered_coords)\n",
    "\n",
    "im = np.array(Image.open(\"/home/jaxa/toshiki/sfmtutorial/IMG20241217172928.jpg\").convert(\"L\"))\n",
    "harrisim = harris.compute_harris_response(im)\n",
    "filtered_coords = harris.get_harris_points(harrisim, 50)\n",
    "harris.plot_harris_points(im, filtered_coords)"
   ]
  },
  {
   "cell_type": "code",
   "execution_count": null,
   "metadata": {},
   "outputs": [],
   "source": [
    "im1 = np.array(Image.open(\"/home/jaxa/toshiki/sfmtutorial/IMG20241217172928.jpg\").convert(\"L\"))\n",
    "im2 = np.array(Image.open(\"/home/jaxa/toshiki/sfmtutorial/IMG20241217172928.jpg\").convert(\"L\"))\n",
    "\n",
    "wid = 5\n",
    "harrisim = harris.compute_harris_response(im1, 5)\n",
    "filtered_coords1 = harris.get_harris_points(harrisim, 50)\n",
    "d1 = harris.get_descriptors(im1, filtered_coords1, wid)\n",
    "\n",
    "harrisim = harris.compute_harris_response(im2, 5)\n",
    "filtered_coords2 = harris.get_harris_points(harrisim, 50)\n",
    "d2 = harris.get_descriptors(im2, filtered_coords2, wid)\n",
    "\n",
    "print(\"start matching\")\n",
    "matches = harris.match_twosided(d1, d2)\n",
    "\n",
    "plt.figure()\n",
    "plt.gray()\n",
    "harris.plot_matches(im1, im2, filtered_coords1, filtered_coords2, matches)\n",
    "plt.show()"
   ]
  },
  {
   "cell_type": "code",
   "execution_count": 2,
   "metadata": {},
   "outputs": [],
   "source": [
    "import sift"
   ]
  },
  {
   "cell_type": "code",
   "execution_count": null,
   "metadata": {},
   "outputs": [],
   "source": [
    "image_path = \"/home/jaxa/toshiki/sfmtutorial/scan9/00000014.jpg\"\n",
    "\n",
    "img, keypoints, descriptors = sift.feature_detection(image_path)\n",
    "sift.plot_features(img, keypoints)"
   ]
  },
  {
   "cell_type": "code",
   "execution_count": null,
   "metadata": {},
   "outputs": [],
   "source": [
    "img1, keys1, des1 = sift.feature_detection(\"/home/jaxa/toshiki/sfmtutorial/scan9/00000014.jpg\")\n",
    "img2, keys2, des2 = sift.feature_detection(\"/home/jaxa/toshiki/sfmtutorial/scan9/00000022.jpg\")\n",
    "\n",
    "print(\"start matching\")\n",
    "matches = sift.match_twosided(des1, des2)\n",
    "\n",
    "plt.figure()\n",
    "plt.gray()\n",
    "harris.plot_matches(im1, im2, filtered_coords1, filtered_coords2, matches)\n",
    "plt.show()"
   ]
  },
  {
   "cell_type": "code",
   "execution_count": null,
   "metadata": {},
   "outputs": [],
   "source": [
    "imname = \"/home/jaxa/toshiki/sfmtutorial/scan82/000014.png\"\n",
    "img = cv2.imread(imname, cv2.IMREAD_GRAYSCALE)\n",
    "sift = cv2.SIFT_create()\n",
    "keypoints, descriptors = sift.detectAndCompute(img, None)\n",
    "print(keypoints[0])\n",
    "kp = keypoints[0]\n",
    "print(f\"座標: {kp.pt}\")\n",
    "print(f\"スケール: {kp.size}\")\n",
    "print(f\"方向: {kp.angle}\")\n",
    "print(f\"応答値: {kp.response}\")\n",
    "print(f\"ピラミッドレベル: {kp.octave}\")\n",
    "np.hstack((np.array(kp.pt), np.array(kp.size), np.array(kp.angle)))"
   ]
  },
  {
   "cell_type": "code",
   "execution_count": null,
   "metadata": {},
   "outputs": [],
   "source": [
    "imname = \"/home/jaxa/toshiki/sfmtutorial/scan9/00000014.jpg\"\n",
    "im1 = np.array(Image.open(imname).convert(\"L\"))\n",
    "sift.process_image(imname, \"no14.sift\")\n",
    "l1, d1 = sift.read_features_from_file(\"no14.sift\")\n",
    "\n",
    "plt.figure()\n",
    "plt.gray()\n",
    "sift.plot_features(im1, l1, circle=True)\n",
    "plt.show()"
   ]
  },
  {
   "cell_type": "code",
   "execution_count": null,
   "metadata": {},
   "outputs": [],
   "source": [
    "img1 = \"/home/jaxa/toshiki/sfmtutorial/scan9/00000014.jpg\"\n",
    "img1_gray = np.array(Image.open(img1).convert(\"L\"))\n",
    "\n",
    "print(img1_gray.shape)\n",
    "\n",
    "plt.imshow(img1_gray, cmap='gray')\n",
    "plt.axis(\"off\")\n",
    "plt.show()"
   ]
  },
  {
   "cell_type": "code",
   "execution_count": null,
   "metadata": {},
   "outputs": [],
   "source": [
    "img1 = \"/home/jaxa/toshiki/sfmtutorial/scan9/00000014.jpg\"\n",
    "img2 = \"/home/jaxa/toshiki/sfmtutorial/scan9/00000022.jpg\"\n",
    "\n",
    "\n",
    "\n",
    "img1_gray = np.array(Image.open(img1).convert(\"L\"))\n",
    "img2_gray = np.array(Image.open(img2).convert(\"L\"))\n",
    "\n",
    "\n",
    "sift.process_image(img1, \"no14.sift\")\n",
    "sift.process_image(img2, \"no22.sift\")\n",
    "\n",
    "l1, d1 = sift.read_features_from_file(\"no14.sift\")\n",
    "l2, d2 = sift.read_features_from_file(\"no22.sift\")\n",
    "\n",
    "\n",
    "print(\"start matching\")\n",
    "matches = sift.match_twosided(d1, d2)\n",
    "\n",
    "plt.figure()\n",
    "plt.gray()\n",
    "sift.plot_matches(img1_gray, img2_gray, l1, l2, matches)\n",
    "plt.show()"
   ]
  },
  {
   "cell_type": "code",
   "execution_count": 2,
   "metadata": {},
   "outputs": [],
   "source": [
    "import sift"
   ]
  },
  {
   "cell_type": "code",
   "execution_count": null,
   "metadata": {},
   "outputs": [],
   "source": [
    "dir_path = \"scan9\"\n",
    "output_path = \"sift\"\n",
    "\n",
    "files = os.listdir(dir_path)\n",
    "print(files)\n",
    "\n",
    "sift.detect_multiview_features(dir_path, output_path)"
   ]
  },
  {
   "cell_type": "code",
   "execution_count": null,
   "metadata": {},
   "outputs": [],
   "source": [
    "import pydot\n",
    "\n",
    "g = pydot.Dot(graph_type=\"graph\")\n",
    "\n",
    "g.add_node(pydot.Node(str(0), fontcolor=\"transparent\"))\n",
    "\n",
    "for i in range(5):\n",
    "    g.add_node(pydot.Node(str(i+1)))\n",
    "    g.add_edge(pydot.Edge(str(0), str(i+1)))\n",
    "    for i in range(5)"
   ]
  },
  {
   "cell_type": "code",
   "execution_count": 5,
   "metadata": {},
   "outputs": [
    {
     "name": "stdout",
     "output_type": "stream",
     "text": [
      "comparing  00000007.jpg   00000007.jpg\n",
      "number of matches =  6177\n",
      "comparing  00000007.jpg   00000025.jpg\n",
      "number of matches =  13\n",
      "comparing  00000007.jpg   00000028.jpg\n",
      "number of matches =  190\n",
      "comparing  00000007.jpg   00000016.jpg\n",
      "number of matches =  9\n",
      "comparing  00000007.jpg   00000012.jpg\n",
      "number of matches =  8\n",
      "comparing  00000007.jpg   00000000.jpg\n",
      "number of matches =  137\n",
      "comparing  00000007.jpg   00000021.jpg\n",
      "number of matches =  1\n",
      "comparing  00000007.jpg   00000003.jpg\n",
      "number of matches =  0\n",
      "comparing  00000025.jpg   00000025.jpg\n",
      "number of matches =  4207\n",
      "comparing  00000025.jpg   00000028.jpg\n",
      "number of matches =  65\n",
      "comparing  00000025.jpg   00000016.jpg\n",
      "number of matches =  0\n",
      "comparing  00000025.jpg   00000012.jpg\n",
      "number of matches =  0\n",
      "comparing  00000025.jpg   00000000.jpg\n",
      "number of matches =  11\n",
      "comparing  00000025.jpg   00000021.jpg\n",
      "number of matches =  0\n",
      "comparing  00000025.jpg   00000003.jpg\n",
      "number of matches =  2\n",
      "comparing  00000028.jpg   00000028.jpg\n",
      "number of matches =  5417\n",
      "comparing  00000028.jpg   00000016.jpg\n",
      "number of matches =  9\n",
      "comparing  00000028.jpg   00000012.jpg\n",
      "number of matches =  3\n",
      "comparing  00000028.jpg   00000000.jpg\n",
      "number of matches =  39\n",
      "comparing  00000028.jpg   00000021.jpg\n",
      "number of matches =  0\n",
      "comparing  00000028.jpg   00000003.jpg\n",
      "number of matches =  4\n",
      "comparing  00000016.jpg   00000016.jpg\n",
      "number of matches =  10194\n",
      "comparing  00000016.jpg   00000012.jpg\n",
      "number of matches =  148\n",
      "comparing  00000016.jpg   00000000.jpg\n",
      "number of matches =  2\n",
      "comparing  00000016.jpg   00000021.jpg\n",
      "number of matches =  18\n",
      "comparing  00000016.jpg   00000003.jpg\n",
      "number of matches =  25\n",
      "comparing  00000012.jpg   00000012.jpg\n",
      "number of matches =  10095\n",
      "comparing  00000012.jpg   00000000.jpg\n",
      "number of matches =  12\n",
      "comparing  00000012.jpg   00000021.jpg\n",
      "number of matches =  24\n",
      "comparing  00000012.jpg   00000003.jpg\n",
      "number of matches =  5\n",
      "comparing  00000000.jpg   00000000.jpg\n",
      "number of matches =  4871\n",
      "comparing  00000000.jpg   00000021.jpg\n",
      "number of matches =  3\n",
      "comparing  00000000.jpg   00000003.jpg\n",
      "number of matches =  0\n",
      "comparing  00000021.jpg   00000021.jpg\n",
      "number of matches =  7266\n",
      "comparing  00000021.jpg   00000003.jpg\n",
      "number of matches =  0\n",
      "comparing  00000003.jpg   00000003.jpg\n",
      "number of matches =  7007\n",
      "[[6.1770e+03 1.3000e+01 1.9000e+02 9.0000e+00 8.0000e+00 1.3700e+02\n",
      "  1.0000e+00 0.0000e+00]\n",
      " [1.3000e+01 4.2070e+03 6.5000e+01 0.0000e+00 0.0000e+00 1.1000e+01\n",
      "  0.0000e+00 2.0000e+00]\n",
      " [1.9000e+02 6.5000e+01 5.4170e+03 9.0000e+00 3.0000e+00 3.9000e+01\n",
      "  0.0000e+00 4.0000e+00]\n",
      " [9.0000e+00 0.0000e+00 9.0000e+00 1.0194e+04 1.4800e+02 2.0000e+00\n",
      "  1.8000e+01 2.5000e+01]\n",
      " [8.0000e+00 0.0000e+00 3.0000e+00 1.4800e+02 1.0095e+04 1.2000e+01\n",
      "  2.4000e+01 5.0000e+00]\n",
      " [1.3700e+02 1.1000e+01 3.9000e+01 2.0000e+00 1.2000e+01 4.8710e+03\n",
      "  3.0000e+00 0.0000e+00]\n",
      " [1.0000e+00 0.0000e+00 0.0000e+00 1.8000e+01 2.4000e+01 3.0000e+00\n",
      "  7.2660e+03 0.0000e+00]\n",
      " [0.0000e+00 2.0000e+00 4.0000e+00 2.5000e+01 5.0000e+00 0.0000e+00\n",
      "  0.0000e+00 7.0070e+03]]\n"
     ]
    }
   ],
   "source": [
    "dir_path = \"scan9_mini\"\n",
    "sift_path = \"sift_mini\"\n",
    "\n",
    "matchscores =  sift.matching_multiview(dir_path, sift_path)\n",
    "print(matchscores)"
   ]
  },
  {
   "cell_type": "code",
   "execution_count": 6,
   "metadata": {},
   "outputs": [],
   "source": [
    "np.save(\"matchscores.npy\", matchscores)"
   ]
  },
  {
   "cell_type": "code",
   "execution_count": 3,
   "metadata": {},
   "outputs": [
    {
     "name": "stdout",
     "output_type": "stream",
     "text": [
      "[[5.396e+03 4.000e+00 6.470e+02 2.140e+02 1.130e+03 6.120e+02 5.600e+01]\n",
      " [4.000e+00 2.067e+03 7.700e+01 1.000e+00 0.000e+00 1.000e+00 1.180e+02]\n",
      " [6.470e+02 7.700e+01 3.880e+03 1.100e+01 5.590e+02 3.230e+02 2.000e+02]\n",
      " [2.140e+02 1.000e+00 1.100e+01 7.319e+03 3.960e+02 1.026e+03 0.000e+00]\n",
      " [1.130e+03 0.000e+00 5.590e+02 3.960e+02 5.908e+03 1.078e+03 1.000e+01]\n",
      " [6.120e+02 1.000e+00 3.230e+02 1.026e+03 1.078e+03 6.389e+03 0.000e+00]\n",
      " [5.600e+01 1.180e+02 2.000e+02 0.000e+00 1.000e+01 0.000e+00 1.220e+03]]\n"
     ]
    }
   ],
   "source": [
    "matchscores = np.load(\"matchscores_room.npy\")\n",
    "print(matchscores)"
   ]
  },
  {
   "cell_type": "code",
   "execution_count": 5,
   "metadata": {},
   "outputs": [],
   "source": [
    "import pydot"
   ]
  },
  {
   "cell_type": "code",
   "execution_count": 7,
   "metadata": {},
   "outputs": [],
   "source": [
    "threshold = 2\n",
    "\n",
    "images_path = \"/home/jaxa/toshiki/sfmtutorial/room/room_resize\"\n",
    "output_path = \"thumbnail\"\n",
    "files_images = os.listdir(images_path)\n",
    "nbr_images = len(files_images)\n",
    "\n",
    "g = pydot.Dot(graph_type=\"graph\")\n",
    "for i in range(nbr_images):\n",
    "    for j in range(i+1, nbr_images):\n",
    "        if matchscores[i, j] > threshold:\n",
    "            im = Image.open(os.path.join(images_path, files_images[i]))\n",
    "            im.thumbnail((100, 100))\n",
    "            filename = files_images[i]\n",
    "            im.save(\"thumbnail/\"+filename)\n",
    "            g.add_node(pydot.Node(str(i), fontcolor='transparent', shape=\"rectangle\", image=\"/home/jaxa/toshiki/sfmtutorial/thumbnail/\"+filename))\n",
    "\n",
    "            im = Image.open(os.path.join(images_path, files_images[j]))\n",
    "            im.thumbnail((100, 100))\n",
    "            filename = files_images[j]\n",
    "\n",
    "            im.save(\"thumbnail/\"+filename)\n",
    "            g.add_node(pydot.Node(str(j), fontcolor='transparent', shape=\"rectangle\", image=\"/home/jaxa/toshiki/sfmtutorial/thumbnail/\"+filename))\n",
    "\n",
    "            g.add_edge(pydot.Edge(str(i), str(j)))\n",
    "\n",
    "g.write_png(\"scenegraph_room.png\")"
   ]
  }
 ],
 "metadata": {
  "kernelspec": {
   "display_name": "sfmtutorial",
   "language": "python",
   "name": "python3"
  },
  "language_info": {
   "codemirror_mode": {
    "name": "ipython",
    "version": 3
   },
   "file_extension": ".py",
   "mimetype": "text/x-python",
   "name": "python",
   "nbconvert_exporter": "python",
   "pygments_lexer": "ipython3",
   "version": "3.9.21"
  }
 },
 "nbformat": 4,
 "nbformat_minor": 2
}
